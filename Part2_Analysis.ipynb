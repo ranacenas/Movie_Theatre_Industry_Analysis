{
 "cells": [
  {
   "cell_type": "code",
   "execution_count": 1,
   "id": "1c5d9114-fddd-4dfd-a899-ea4430d11217",
   "metadata": {},
   "outputs": [],
   "source": [
    "import pandas as pd\n",
    "import lxml\n",
    "import numpy as np\n",
    "import time\n",
    "from datetime import datetime\n",
    "from sqlalchemy import create_engine\n",
    "from sqlalchemy.engine import URL\n",
    "import pyodbc\n",
    "\n",
    "connection_string = \"DRIVER={ODBC Driver 17 for SQL Server};SERVER=localhost;DATABASE=moviereleases;UID=dell;PWD=password\"\n",
    "connection_url = URL.create(\"mssql+pyodbc\", query={\"odbc_connect\": connection_string})\n",
    "\n",
    "engine = create_engine(connection_url)"
   ]
  },
  {
   "cell_type": "markdown",
   "id": "ede139a6-5831-4942-bfd6-296528467f3a",
   "metadata": {},
   "source": [
    "# TL:DR\n"
   ]
  },
  {
   "cell_type": "markdown",
   "id": "e1078d9e-190f-4041-83f8-8ca8d3da0164",
   "metadata": {},
   "source": [
    "Buy puts. While AMC will report a profit in Q3 '23 due to high box office sales thanks to Barbie and Oppenheimer, AMC's outlook in the future looks bleak. Taking a look at the data and their earnings reports, AMC's debt, rising interest rates, rise of streaming services, stagnant growth and lack of movie-goers will result in net losses in the coming years and possibly bankruptcy.\n",
    "\n",
    "**In the short term, we will see AMC's stock rise for a day or two for the following reasons:**\n",
    "* Q3 U.S. box office remained flat at \\$2.6B vs. previous quarter (-1% vs. Q2 '23) and is climbing back to pre-COVID levels (-5% vs. Q3 '19, +3% vs. Q3 '18)\n",
    "* AMC is expected to report ~\\$589M in admission revenue and a net profit similar to previous quarter due to similar revenue numbers\n",
    "* Food and Beverage revenue climbed to an all time high of \\$411.1M in the previous quarter and is expected to remain at those levels in Q3 '23 due to AMC continuously offering unique higher priced products (ex. Super Mario popcorn bucket, Barbie corvette popcorn vessel, etc.)\n",
    "\n",
    "**In the long term, AMC's stock will continue to fall because of the following:**\n",
    "* AMC's market share in the US has remained stagnant (22% share in '23, a 1% pt. improvement vs. the 21% share in '19)\n",
    "* Admission revenue is largely driven by ticket price increases, meaning attendance levels have not recovered to pre-COVID levels\n",
    "* Q2 '23 saw over 50M customers, still significantly less than pre-COVID levels and Q3 '23 is expected to report similar numbers\n",
    "* AMC's debt combined with rising interest rates will only further increase their expenses\n",
    "* Oct '23 U.S. box office revenue of \\$551M is significantly less than compared to pre-COVID years (-28% vs. Oct '19, -33% vs. Oct '18)\n",
    "* November and December must attain at least \\$1.1B in revenue to end the quarter at pre-COVID levels\n"
   ]
  },
  {
   "cell_type": "markdown",
   "id": "c08f931d-b7d6-4bc4-a39b-3a7df4bdaba1",
   "metadata": {},
   "source": [
    "## Taking a look at the data\n",
    "\n",
    "Taking an overview of the U.S. box office sales, here we can see the impact of COVID where 2020 and 2021 revenues are at its lowest. For this analysis we'll exclude it as it will not tell us anything that we don't already know."
   ]
  },
  {
   "cell_type": "code",
   "execution_count": 10,
   "id": "72d816de-84a2-42cb-84ec-af23df0088d2",
   "metadata": {},
   "outputs": [
    {
     "data": {
      "text/html": [
       "<iframe\n",
       "    scrolling=\"no\"\n",
       "    width=\"100%\"\n",
       "    height=\"545px\"\n",
       "    src=\"iframe_figures/figure_10.html\"\n",
       "    frameborder=\"0\"\n",
       "    allowfullscreen\n",
       "></iframe>\n"
      ]
     },
     "metadata": {},
     "output_type": "display_data"
    }
   ],
   "source": [
    "fig.show()"
   ]
  },
  {
   "cell_type": "markdown",
   "id": "3be4827c-01eb-4486-b83c-0f974e4db6b2",
   "metadata": {},
   "source": [
    "The next thing we will look at is the relationship between the U.S. box office revenue and AMC's revenue. \n",
    "\n",
    "Note: AMC's admission revenue can be obtained through reading their quarterly earnings reports. (Unfortunately, due to the inconsistency of their reports, scripting it would take too long so this process had to be done manually). \n",
    "\n",
    "### AMC Admission Revenue vs. U.S. Box Office Revenue\n",
    "\n",
    "In the figure below, you'll obviously see that AMC's revenue increases as U.S. revenue increases. What's interesting about this is that we see that **AMC's market share remains flat** fluctuating between 21% - 23% throughout the years. This tells us AMC as a company is not growing and their competition remains competitive in the industry."
   ]
  },
  {
   "cell_type": "code",
   "execution_count": 11,
   "id": "ef7d1ebc-a663-49ae-bd1a-3502febda610",
   "metadata": {},
   "outputs": [
    {
     "data": {
      "text/html": [
       "<iframe\n",
       "    scrolling=\"no\"\n",
       "    width=\"100%\"\n",
       "    height=\"545px\"\n",
       "    src=\"iframe_figures/figure_11.html\"\n",
       "    frameborder=\"0\"\n",
       "    allowfullscreen\n",
       "></iframe>\n"
      ]
     },
     "metadata": {},
     "output_type": "display_data"
    }
   ],
   "source": [
    "fig2.show()"
   ]
  },
  {
   "cell_type": "markdown",
   "id": "5cbc1e64-ee56-40ce-9090-f687a6c631c4",
   "metadata": {},
   "source": [
    "### AMC Food Revenue and Q3 Revenue"
   ]
  },
  {
   "cell_type": "markdown",
   "id": "ca02b0f1-a6c9-4e75-9934-e0b4ed1f130c",
   "metadata": {},
   "source": [
    "There are two positive things about Q3 and the upcoming Q3 report.\n",
    "1) Food and Beverage revenue has risen to an all time high of $411.1M in Q2 '23 due to AMC's unique product offerings. This revenue stream normally represents \\~33% of their total revenue, but recent trends show it rising to 35%-37%.\n",
    "    * This is expected to continue into Q3 '23 as AMC were offering expensive Barbie popcorn vessels.\n",
    "    * The rising trend in Food and Bev revenue may indicate movie-goers are less price sensitive once inside the theatres where they are willing to spend money on unique products. There is an opportunity to take price increases to gain incremental revenue.\n",
    "\n",
    "\n",
    "2) The recovery to pre-COVID revenue. Q3 \\'23 U.S. box office revenue at remained flat at \\$2.6B vs. previous quarter (-1% vs. Q2 '23) and is climbing back to pre-COVID levels (-5% vs. Q3 '19, +3% vs. Q3 '18).\n",
    "\n",
    "While these points would give investors a sign of confidence in AMC, taking a look at the attendance numbers would show there is still a lack of people returning to theatres."
   ]
  },
  {
   "cell_type": "code",
   "execution_count": 12,
   "id": "d86b70d5-7f66-4336-97fc-5154d6cff05b",
   "metadata": {},
   "outputs": [
    {
     "data": {
      "text/html": [
       "<iframe\n",
       "    scrolling=\"no\"\n",
       "    width=\"100%\"\n",
       "    height=\"545px\"\n",
       "    src=\"iframe_figures/figure_12.html\"\n",
       "    frameborder=\"0\"\n",
       "    allowfullscreen\n",
       "></iframe>\n"
      ]
     },
     "metadata": {},
     "output_type": "display_data"
    }
   ],
   "source": [
    "fig3.show()"
   ]
  },
  {
   "cell_type": "markdown",
   "id": "e66b2ab8-115b-4111-b88a-548be82c66f5",
   "metadata": {},
   "source": [
    "### AMC Attendance and Ticket Prices\n",
    "\n",
    "Looking at the attendance numbers from their quarterly reports, we see that it has not recovered to pre-COVID levels. An investor seeing these numbers would see that this is a cause for concern as COVID regulations no longer exist in the U.S.. The combination of available streaming services and the rising costs of living are most likely causing movie-goers to stay home.\n",
    "\n",
    "If the following quarterly reports show attendance remaining below pre-COVID numbers then AMC will need to strategize ways to maintain their market share and find new revenue streams."
   ]
  },
  {
   "cell_type": "code",
   "execution_count": 13,
   "id": "345a7a95-0768-4aad-ad83-236a986db54b",
   "metadata": {},
   "outputs": [
    {
     "data": {
      "text/html": [
       "<iframe\n",
       "    scrolling=\"no\"\n",
       "    width=\"100%\"\n",
       "    height=\"545px\"\n",
       "    src=\"iframe_figures/figure_13.html\"\n",
       "    frameborder=\"0\"\n",
       "    allowfullscreen\n",
       "></iframe>\n"
      ]
     },
     "metadata": {},
     "output_type": "display_data"
    }
   ],
   "source": [
    "fig4.show()"
   ]
  },
  {
   "cell_type": "markdown",
   "id": "fa497395-fbcb-45b1-9194-a0680237a651",
   "metadata": {},
   "source": [
    "### AMC Q4 Outlook: Why AMC won't do so well\n",
    "\n",
    "While AMC was able to gain the rights to show Taylor Swift and Beyonce's concert films, Oct has already passed and its U.S. revenue is significantly lower than pre-COVID revenues for the same month (-28% vs. Oct '19, -33% vs. Oct '18), signalling to investors AMC is not on track to report profits and COVID impacts have not yet subsided. \n",
    "\n",
    "In order to reach Q4 pre-COVID levels, November and December must earn over $1.1B each.\n",
    "\n",
    "Furthermore going through their previous earnings reports, you will see that they are burning cash each quarter and with rising interest rates, AMC is spending more on interest expenses, reducing their profitability. AMC will need its attendance figures to rise significantly next year or find a new revenue stream to offset the attendance loss since COVID.\n",
    "\n",
    "With a company reliant on movie studios that also have their own streaming services, this post-COVID environment may become AMC's new reality."
   ]
  },
  {
   "cell_type": "code",
   "execution_count": 14,
   "id": "8b1f16c0-c7a4-452f-b2b2-e1c020a898e0",
   "metadata": {},
   "outputs": [
    {
     "data": {
      "text/html": [
       "<iframe\n",
       "    scrolling=\"no\"\n",
       "    width=\"100%\"\n",
       "    height=\"545px\"\n",
       "    src=\"iframe_figures/figure_14.html\"\n",
       "    frameborder=\"0\"\n",
       "    allowfullscreen\n",
       "></iframe>\n"
      ]
     },
     "metadata": {},
     "output_type": "display_data"
    }
   ],
   "source": [
    "fig5.show()"
   ]
  },
  {
   "cell_type": "markdown",
   "id": "16ea5a48-f1ee-4186-a3fb-704e26b5e4d8",
   "metadata": {},
   "source": [
    "\n",
    "\n",
    "\n",
    "\n",
    "\n",
    "\n",
    "\n",
    "\n",
    "\n",
    "\n",
    "\n",
    "\n",
    "\n",
    "\n",
    "\n",
    "\n",
    "\n",
    "\n",
    "\n",
    "\n",
    "\n",
    "\n",
    "\n",
    "# Figures Code"
   ]
  },
  {
   "cell_type": "code",
   "execution_count": 2,
   "id": "b3413373-d9d8-47c2-9dc3-2a549173b2f5",
   "metadata": {},
   "outputs": [],
   "source": [
    "SQL_df = pd.read_sql(\"SELECT * FROM dev_table WHERE Category = 'Pass' AND Date between '2018-01-01' and '2023-09-30' ORDER BY DATE ,MOVIE \", engine)\n",
    "SQL_df['Date'] = pd.to_datetime(SQL_df['Date'], format='YYYY-mm-dd')\n",
    "SQL_df['Year - Qtr'] = SQL_df['Date'].dt.year.astype(str) + \" - \" + SQL_df['Date'].dt.quarter.astype(str)\n",
    "SQL_df['Year'] = SQL_df['Date'].dt.year\n",
    "SQL_df['Month'] = SQL_df['Date'].dt.month"
   ]
  },
  {
   "cell_type": "code",
   "execution_count": 3,
   "id": "dd4deec0-37cf-4a46-b022-96af2813c82c",
   "metadata": {},
   "outputs": [],
   "source": [
    "SQL_df_NCov = SQL_df.loc[~SQL_df['Year'].isin([2021, 2020])]\n",
    "SQL_rev = SQL_df[['Year - Qtr', 'DailyDollars']].groupby(\"Year - Qtr\").sum().reset_index()\n",
    "SQL_rev_NCov = SQL_df_NCov[['Year - Qtr', 'DailyDollars']].groupby(\"Year - Qtr\").sum().reset_index()"
   ]
  },
  {
   "cell_type": "code",
   "execution_count": null,
   "id": "3359c143-100f-447c-bc67-900026c54944",
   "metadata": {},
   "outputs": [],
   "source": [
    "import plotly.express as px\n",
    "import plotly.io as pio\n",
    "\n",
    "pio.renderers.default = 'iframe_connected' # or 'notebook' or 'colab' or 'jupyterlab'\n",
    "\n",
    "import plotly.graph_objects as go\n",
    "\n",
    "colors = ['lightslategray',] * len(SQL_rev['Year - Qtr'].unique())\n",
    "# colors[-1] = 'crimson'\n",
    "\n",
    "fig = go.Figure(\n",
    "    layout=go.Layout(xaxis=dict(title=\"Year - Quarter\"), yaxis=dict(title=\"U.S. Box Office Revenue ($B)\")),\n",
    "    data=[go.Bar(\n",
    "    x=SQL_rev['Year - Qtr'],\n",
    "    y=SQL_rev['DailyDollars'],\n",
    "    marker_color=colors # marker color can be a single color value or an iterable\n",
    ")])\n",
    "\n",
    "fig.show()\n"
   ]
  },
  {
   "cell_type": "code",
   "execution_count": null,
   "id": "86a90529-8399-48b7-9512-16fb73e8c192",
   "metadata": {},
   "outputs": [],
   "source": [
    "AMC_fin_df = pd.read_csv('AMC_fin.csv', encoding='utf-8')\n",
    "AMC_fin_df['Date'] = pd.to_datetime(AMC_fin_df['Date'], format='mixed')\n",
    "AMC_fin_df['Year - Qtr'] = AMC_fin_df['Date'].dt.year.astype(str) + \" - \" + AMC_fin_df['Date'].dt.quarter.astype(str)\n",
    "AMC_fin_df['Year'] = AMC_fin_df['Date'].dt.year.astype(str)\n",
    "AMC_fin_df['Qtr'] = AMC_fin_df['Date'].dt.quarter.astype(str)\n",
    "AMC_fin_df\n",
    "\n",
    "market_share = pd.merge(SQL_rev_NCov, AMC_fin_df[['Year - Qtr','Year', 'Qtr','Revenue - Admissions', 'Attendance']], how=\"left\", on='Year - Qtr')\n",
    "market_share['Revenue - Admissions'] = market_share['Revenue - Admissions'] * 1000000.0\n",
    "market_share['Attendance'] = market_share['Attendance'] * 1000.0\n",
    "market_share['AMC US Market Share'] = market_share['Revenue - Admissions'] / market_share['DailyDollars']\n",
    "market_share['Ticket Price'] = market_share['Revenue - Admissions'] / market_share['Attendance']\n",
    "market_share\n",
    "\n",
    "from plotly.subplots import make_subplots\n",
    "\n",
    "m1 = market_share[['Year - Qtr', 'DailyDollars', 'Revenue - Admissions', 'AMC US Market Share']]\n",
    "\n",
    "fig2 = make_subplots(specs=[[{\"secondary_y\":True}]])\n",
    "\n",
    "\n",
    "fig2.add_trace(\n",
    "    go.Bar(name='U.S. Box Office', x=m1['Year - Qtr'], y=m1['DailyDollars'],marker_color='rgb(55, 83, 109)'),\n",
    "    secondary_y=False\n",
    ")\n",
    "\n",
    "fig2.add_trace(\n",
    "    go.Bar(name='AMC Admissions Revenue', x=m1['Year - Qtr'], y=m1['Revenue - Admissions'],marker_color='rgb(0, 76,151)'),\n",
    "    secondary_y=False\n",
    ")\n",
    "\n",
    "fig2.add_trace(\n",
    "    go.Scatter(\n",
    "        x=m1['Year - Qtr'],\n",
    "        y=m1['AMC US Market Share'],\n",
    "        name=\"AMC Market Share\",\n",
    "        marker=dict(color=\"Red\", size=5)    \n",
    "    ),\n",
    "      secondary_y=True\n",
    ")\n",
    "\n",
    "\n",
    "fig2.update_layout()\n",
    "fig2.update_layout({\"plot_bgcolor\": \"rgba(0, 0, 0, 0)\"})\n",
    "fig2.update_yaxes(showgrid=False,range=[0.0,0.75], secondary_y=True)\n",
    "fig2.show()"
   ]
  },
  {
   "cell_type": "code",
   "execution_count": null,
   "id": "08a475f2-fc1c-40df-85cc-cfe4c184d44c",
   "metadata": {},
   "outputs": [],
   "source": [
    "AMC_fin_df\n",
    "AMC_fin_df_ = AMC_fin_df.loc[~AMC_fin_df['Year'].isin(['2021', '2020'])]\n",
    "AMC_fin_df_['Food&Bev Revenue %'] = AMC_fin_df_['Revenue - Food and Beverage'] / AMC_fin_df_['Revenue - Total']\n",
    "\n",
    "Q3_df = SQL_rev_NCov.loc[SQL_rev_NCov['Year - Qtr'].str.contains(\"- 3\")]\n",
    "Q3_df\n",
    "\n",
    "fig3 = make_subplots(rows=1, cols=2, subplot_titles=('AMC Food & Bev Revenue % of Total Revenue',\"Q3 Revenue by Year\"))\n",
    "\n",
    "fig3.add_trace(go.Scatter(\n",
    "    x=AMC_fin_df_['Year - Qtr'],\n",
    "    y=AMC_fin_df_['Food&Bev Revenue %']\n",
    "), row=1, col=1)\n",
    "\n",
    "fig3.add_trace(go.Bar(\n",
    "    x=Q3_df['Year - Qtr'],\n",
    "    y=Q3_df['DailyDollars'],\n",
    "), row=1, col=2)\n",
    "\n",
    "\n",
    "\n",
    "fig3.update_layout(showlegend=False)\n",
    "fig3.show()"
   ]
  },
  {
   "cell_type": "code",
   "execution_count": null,
   "id": "45009ccc-c45a-49f2-b18c-96e1ffd62cae",
   "metadata": {},
   "outputs": [],
   "source": [
    "m2 = market_share[['Year - Qtr', 'Attendance', 'Ticket Price']]\n",
    "\n",
    "fig4 = make_subplots(specs=[[{\"secondary_y\":True}]])\n",
    "\n",
    "\n",
    "# fig2.add_trace(\n",
    "#     go.Bar(name='U.S. Box Office', x=m1['Year - Qtr'], y=m1['DailyDollars'],marker_color='rgb(55, 83, 109)'),\n",
    "#     secondary_y=False\n",
    "# )\n",
    "\n",
    "fig4.add_trace(\n",
    "    go.Bar(name='AMC Attendance', x=m2['Year - Qtr'], y=m2['Attendance'],marker_color='rgb(0, 76,151)'),\n",
    "    secondary_y=False\n",
    ")\n",
    "\n",
    "fig4.add_trace(\n",
    "    go.Scatter(\n",
    "        x=m2['Year - Qtr'],\n",
    "        y=m2['Ticket Price'],\n",
    "        name=\"Ticket Price\",\n",
    "        marker=dict(color=\"Black\", size=10)    \n",
    "    ),\n",
    "      secondary_y=True\n",
    ")\n",
    "\n",
    "\n",
    "fig4.update_layout({\"plot_bgcolor\": \"rgba(0, 0, 0, 0)\"})\n",
    "fig4.update_yaxes(showgrid=False,range=[20000000,80000000], secondary_y=False)\n",
    "fig4.update_yaxes(showgrid=False,range=[9.0,13.0], secondary_y=True)\n",
    "fig4.show()"
   ]
  },
  {
   "cell_type": "code",
   "execution_count": 8,
   "id": "61137b2c-feea-49de-aee6-9b87a7ed5969",
   "metadata": {},
   "outputs": [],
   "source": [
    "SQL_df2 = pd.read_sql(\"SELECT * FROM dev_table WHERE Category = 'Pass' AND Date between '2018-01-01' and '2023-10-31' ORDER BY DATE ,MOVIE \", engine)\n",
    "SQL_df2['Date'] = pd.to_datetime(SQL_df2['Date'], format='YYYY-mm-dd')\n",
    "SQL_df2['Year'] = SQL_df2['Date'].dt.year\n",
    "SQL_df2['Month'] = SQL_df2['Date'].dt.month"
   ]
  },
  {
   "cell_type": "code",
   "execution_count": null,
   "id": "d1101a1b-7505-41e0-ae08-14dbbb18f973",
   "metadata": {},
   "outputs": [],
   "source": [
    "SQL_df_Q4 = SQL_df2.loc[~SQL_df2['Year'].isin([2021, 2020])]\n",
    "SQL_df_Q4 = SQL_df_Q4.loc[SQL_df_Q4['Month'].isin([10, 11, 12])]\n",
    "SQL_df_Q4['Month - Year'] = SQL_df_Q4['Month'].astype(str) + \" - \" + SQL_df_Q4['Year'].astype(str)\n",
    "\n",
    "Oct_df = SQL_df_Q4.loc[SQL_df_Q4['Month'].isin([10])]\n",
    "Octf_df = Oct_df[['Month - Year', 'DailyDollars']].groupby(\"Month - Year\").sum().reset_index()\n",
    "\n",
    "Nov_df = SQL_df_Q4.loc[SQL_df_Q4['Month'].isin([11])]\n",
    "Novf_df = Nov_df[['Month - Year', 'DailyDollars']].groupby(\"Month - Year\").sum().reset_index()\n",
    "\n",
    "Dec_df = SQL_df_Q4.loc[SQL_df_Q4['Month'].isin([12])]\n",
    "Decf_df = Dec_df[['Month - Year', 'DailyDollars']].groupby(\"Month - Year\").sum().reset_index()\n",
    "\n",
    "colors = ['lightslategray',] * len(Oct_df['Month - Year'].unique())\n",
    "colors[-1] = 'crimson'\n",
    "\n",
    "\n",
    "fig5 = make_subplots(rows=1, cols=3, subplot_titles=(\"Oct. Revenue\",\"Nov. Revenue\",\"Dec. Revenue\"))\n",
    "\n",
    "fig5.add_trace(go.Bar(\n",
    "    x=Octf_df['Month - Year'],\n",
    "    y=Octf_df['DailyDollars'],\n",
    "    marker_color=colors # marker color can be a single color value or an iterable\n",
    "), row=1, col=1)\n",
    "\n",
    "fig5.add_trace(go.Bar(\n",
    "    x=Novf_df['Month - Year'],\n",
    "    y=Novf_df['DailyDollars'],\n",
    "), row=1, col=2)\n",
    "\n",
    "fig5.add_trace(go.Bar(\n",
    "    x=Decf_df['Month - Year'],\n",
    "    y=Decf_df['DailyDollars'],\n",
    "), row=1, col=3)\n",
    "\n",
    "fig5.update_layout(showlegend=False, title_text=\"Monthly U.S. Box Office Revenue by Year\")\n",
    "fig5.show()"
   ]
  },
  {
   "cell_type": "code",
   "execution_count": null,
   "id": "34c27b57-41ae-4844-86b5-6ed55ddf3d44",
   "metadata": {},
   "outputs": [],
   "source": []
  }
 ],
 "metadata": {
  "kernelspec": {
   "display_name": "Python 3 (ipykernel)",
   "language": "python",
   "name": "python3"
  },
  "language_info": {
   "codemirror_mode": {
    "name": "ipython",
    "version": 3
   },
   "file_extension": ".py",
   "mimetype": "text/x-python",
   "name": "python",
   "nbconvert_exporter": "python",
   "pygments_lexer": "ipython3",
   "version": "3.10.11"
  }
 },
 "nbformat": 4,
 "nbformat_minor": 5
}
